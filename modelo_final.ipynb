{
  "cells": [
    {
      "cell_type": "code",
      "execution_count": 1,
      "metadata": {
        "id": "uHnbi_IQCkMu"
      },
      "outputs": [
        {
          "name": "stdout",
          "output_type": "stream",
          "text": [
            "El modelo ha sido entrenado y guardado. Las predicciones para el conjunto de datos de la competición han sido realizadas y guardadas en 'predicciones.csv'.\n"
          ]
        }
      ],
      "source": [
        "# Fichero del modelo final\n",
        "\n",
        "# Importar librerias a usar\n",
        "import pandas as pd\n",
        "from sklearn.svm import SVR\n",
        "from sklearn.preprocessing import StandardScaler\n",
        "from sklearn.pipeline import Pipeline\n",
        "import joblib\n",
        "\n",
        "# Cargar los datos\n",
        "wind_ava = pd.read_csv('wind_ava.csv.gz', compression=\"gzip\")\n",
        "columns_of_interest = [col for col in wind_ava.columns if '.13' in col] + ['energy']\n",
        "wind_ava_filtered = wind_ava[columns_of_interest]\n",
        "\n",
        "wind_comp = pd.read_csv('wind_comp.csv.gz', compression=\"gzip\")\n",
        "columns_of_interest_comp = [col for col in wind_comp.columns if '.13' in col]\n",
        "wind_comp_filtered = wind_comp[columns_of_interest_comp]\n",
        "\n",
        "# Entrenar el modelo KNN\n",
        "X = wind_ava_filtered.drop('energy', axis=1)\n",
        "y = wind_ava_filtered['energy']\n",
        "pipeline = Pipeline([\n",
        "    ('scaler', StandardScaler()),\n",
        "    ('svm', SVR(C=1000, gamma='auto', kernel='rbf'))\n",
        "])\n",
        "pipeline.fit(X, y)\n",
        "\n",
        "# Guardar el modelo entrenado\n",
        "joblib.dump(pipeline, 'modelo_final.pkl')\n",
        "\n",
        "# Cargar el modelo, hacer predicciones y guardarlas\n",
        "predicciones = pipeline.predict(wind_comp_filtered)\n",
        "pd.DataFrame(predicciones, columns=['energy']).to_csv('predicciones.csv', index=False)\n",
        "\n",
        "print(\"El modelo ha sido entrenado y guardado. Las predicciones para el conjunto de datos de la competición han sido realizadas y guardadas en 'predicciones.csv'.\")\n"
      ]
    }
  ],
  "metadata": {
    "colab": {
      "provenance": []
    },
    "kernelspec": {
      "display_name": "Python 3",
      "name": "python3"
    },
    "language_info": {
      "codemirror_mode": {
        "name": "ipython",
        "version": 3
      },
      "file_extension": ".py",
      "mimetype": "text/x-python",
      "name": "python",
      "nbconvert_exporter": "python",
      "pygments_lexer": "ipython3",
      "version": "3.12.0"
    }
  },
  "nbformat": 4,
  "nbformat_minor": 0
}
